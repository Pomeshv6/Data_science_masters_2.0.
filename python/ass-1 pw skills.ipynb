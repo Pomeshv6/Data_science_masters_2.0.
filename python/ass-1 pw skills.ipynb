{
 "cells": [
  {
   "cell_type": "raw",
   "id": "e007f6e1-2957-4a51-a804-03e6c3efa81c",
   "metadata": {},
   "source": [
    "Q1. Create one variable containing following type of data:\n",
    "(i) string\n",
    "(ii) list\n",
    "(iii) float\n",
    "(iv) tuple"
   ]
  },
  {
   "cell_type": "markdown",
   "id": "888204b3-dcb3-400b-98dd-3c6a34849e76",
   "metadata": {},
   "source": [
    "ans-(i)"
   ]
  },
  {
   "cell_type": "code",
   "execution_count": 4,
   "id": "6c148ac2-8330-48d1-99ab-9ebf857d0fa7",
   "metadata": {},
   "outputs": [
    {
     "name": "stdout",
     "output_type": "stream",
     "text": [
      "I am a entry level Data Science Student\n"
     ]
    }
   ],
   "source": [
    "\n",
    "Mystring=\"I am a entry level Data Science Student\"\n",
    "print(Mystring)"
   ]
  },
  {
   "cell_type": "markdown",
   "id": "01eeec60-e53f-4100-afc4-04253be6d512",
   "metadata": {},
   "source": [
    "ans-(ii)"
   ]
  },
  {
   "cell_type": "code",
   "execution_count": 5,
   "id": "4f3a6832-fba5-42e2-86f7-ef10d822c653",
   "metadata": {},
   "outputs": [
    {
     "name": "stdout",
     "output_type": "stream",
     "text": [
      "['one', 11, 'Two', 23.9, 'Three']\n"
     ]
    }
   ],
   "source": [
    "myList = [\"one\", 11, \"Two\", 23.9, \"Three\"];\n",
    "print(myList);"
   ]
  },
  {
   "cell_type": "markdown",
   "id": "d5c5a84c-2601-4b7f-a8e1-42c7823c50c2",
   "metadata": {},
   "source": [
    "ans=(iii)"
   ]
  },
  {
   "cell_type": "code",
   "execution_count": 9,
   "id": "8def88ef-5805-4238-afd3-e8a5d72aa796",
   "metadata": {},
   "outputs": [
    {
     "name": "stdout",
     "output_type": "stream",
     "text": [
      "17.8954\n"
     ]
    }
   ],
   "source": [
    "this_is_a_float = 17.8954\n",
    "print(this_is_a_float)"
   ]
  },
  {
   "cell_type": "markdown",
   "id": "b0d2e422-9423-4edb-881e-b35df0218672",
   "metadata": {},
   "source": [
    "ans=(iv)"
   ]
  },
  {
   "cell_type": "code",
   "execution_count": 13,
   "id": "264868a6-0000-489d-9f58-46cd6de9b4df",
   "metadata": {},
   "outputs": [
    {
     "ename": "IndentationError",
     "evalue": "unexpected indent (1875128327.py, line 2)",
     "output_type": "error",
     "traceback": [
      "\u001b[0;36m  Cell \u001b[0;32mIn[13], line 2\u001b[0;36m\u001b[0m\n\u001b[0;31m    print(t1)\u001b[0m\n\u001b[0m    ^\u001b[0m\n\u001b[0;31mIndentationError\u001b[0m\u001b[0;31m:\u001b[0m unexpected indent\n"
     ]
    }
   ],
   "source": [
    "t1 = (3.14)\n",
    " print(t1)"
   ]
  },
  {
   "cell_type": "code",
   "execution_count": null,
   "id": "8d88b28f-8e3e-4654-ae00-1b44452177e9",
   "metadata": {},
   "outputs": [],
   "source": []
  }
 ],
 "metadata": {
  "kernelspec": {
   "display_name": "Python 3 (ipykernel)",
   "language": "python",
   "name": "python3"
  },
  "language_info": {
   "codemirror_mode": {
    "name": "ipython",
    "version": 3
   },
   "file_extension": ".py",
   "mimetype": "text/x-python",
   "name": "python",
   "nbconvert_exporter": "python",
   "pygments_lexer": "ipython3",
   "version": "3.10.8"
  }
 },
 "nbformat": 4,
 "nbformat_minor": 5
}
