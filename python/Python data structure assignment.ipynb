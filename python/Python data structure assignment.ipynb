{
 "cells": [
  {
   "cell_type": "markdown",
   "id": "67a2d310-808e-476e-96ca-a5693e5765a0",
   "metadata": {},
   "source": []
  },
  {
   "cell_type": "markdown",
   "id": "0feb41ac-8bdc-4eee-aaee-8f45165f3af3",
   "metadata": {},
   "source": [
    "Q1. How do you comment code in Python? What are the different types of comments?\n",
    "\n",
    "Ans. \n",
    "\n",
    "     Comments are used to add explanatory notes or remarks within the code. These comments are not executed as part of the program and are intended solely for human readers to better understand the code. \n",
    "    1. Single Line COmeents. e.g. print(\"Hello, World!\") \n",
    "    2. Double line comments. e.g. '''\n",
    "                                     This is a multi-line comment.\n",
    "                                     It spans multiple lines, and everything inside the triple quotes is ignored by the interpreter.\n",
    "                                  '''\n",
    "                                     print(\"Hello, World!\")\n",
    "                                     \n",
    "                                    \n",
    "    \n",
    "    "
   ]
  },
  {
   "cell_type": "markdown",
   "id": "fa26d980-16ca-43c5-828f-91201d156aef",
   "metadata": {},
   "source": [
    "Q2. What are variables in Python? How do you declare and assign values to variables?\n",
    "\n",
    "Ans-->> \n",
    "        \n",
    "        In Python, variables are used to store data values. They act as placeholders or containers that can hold various types of data, such as numbers, strings, lists, dictionaries, etc. Variables allow you to give names to these values, making it easier to work with data and manipulate it in your code.\n",
    "     Declaring and assigning values to variables in Python is straightforward. You don't need to specify the variable's data type explicitly; Python determines the data type automatically based on the value assigned. Here's the general syntax to declare and assign values to variables:\n",
    "     variable_name = value\n",
    "            Here, variable_name is the name of the variable, and value is the data you want to assign to the variable. \n",
    "\n",
    "     examples:\n",
    "Example 1: Assigning a number to a variable\n",
    "x = 10\n",
    "y = 3.14\n",
    "\n",
    "Example 2: Assigning a string to a variable\n",
    "name = \"John\"\n",
    "message = \"Hello, World!\"\n",
    "\n",
    "Example 3: Assigning a list to a variable\n",
    "numbers = [1, 2, 3, 4, 5]\n",
    "fruits = [\"apple\", \"banana\", \"orange\"]\n",
    "\n",
    "Example 4: Assigning a dictionary to a variable\n",
    "person = {\"name\": \"Alice\", \"age\": 30, \"city\": \"New York\"} ."
   ]
  },
  {
   "cell_type": "markdown",
   "id": "c9bacd9e-4058-402e-a388-0292505bec3d",
   "metadata": {},
   "source": [
    "Q3. How do you convert one data type to another in Python?\n",
    "\n",
    "Ans-->\n",
    "          \n",
    "          In Python, you can convert one data type to another using various built-in functions. \n",
    "      These functions allow you to perform type conversions based on the data you have and the data type you want to convert it to. \n",
    "\n",
    " e.g. \n",
    "   1. int(): Convert to an integer\n",
    "       num_str = \"10\"\n",
    "      num_int = int(num_str)   # Converts \"10\" (string) to 10 (integer)\n",
    "\n",
    "\n",
    "   2. float(): Convert to a floating-point number\n",
    "      num_str = \"3.14\"\n",
    "      num_float = float(num_str)  # Converts \"3.14\" (string) to 3.14 (float)  "
   ]
  },
  {
   "cell_type": "code",
   "execution_count": null,
   "id": "688fd499-c766-4fea-8c65-f2db438e8c59",
   "metadata": {},
   "outputs": [],
   "source": [
    "Q4. How do you write and execute a Python script from the command line?\n",
    "\n",
    "Ans.4. To write and execute a Python script from the command line, follow these steps:\n",
    "       Open a text editor (e.g., Notepad, Visual Studio Code, or any code editor of your choice) and create a new file. \n",
    "   1. Write your Python code in this file and save it with a .py extension. For example, you can save it as myscript.py.\n",
    "\n",
    "   2. Write your Python code inside the script. For example, let's create a simple script that prints \"Hello, World!\" to the console:\n",
    "      python# myscript.py\n",
    "      print(\"Hello, World!\")\n",
    "   3.Open a terminal or command prompt on your operating system.\n",
    "\n",
    "   4.Navigate to the directory where you saved your Python script using the cd command (change directory).\n",
    "     For example, if your script is saved on the desktop, use the following command (on Windows):\n",
    "    cd C:\\Users\\YourUsername\\Desktop.\n",
    "   5.Once you are in the correct directory, execute the Python script using the python command followed by the script's filename:\n",
    "     python myscript.py\n",
    "     For example, using the script we created earlier, you would run:\n",
    "     python myscript.py\n",
    "     After running the command, the Python interpreter will execute your script, and you will see the output in the terminal:\n",
    "     Hello, World!\n"
   ]
  },
  {
   "cell_type": "code",
   "execution_count": null,
   "id": "3cbf3195-c1d4-42df-818f-0e01f54cb5a0",
   "metadata": {},
   "outputs": [],
   "source": [
    "Q5. Given a list my_list = [1, 2, 3, 4, 5], write the code to slice the list and obtain the sub-list [2, 3].\n",
    "Ans. my_list = [1, 2, 3, 4, 5]\n",
    "     sub_list = my_list[1:3]\n",
    "     print(sub_list)\n",
    "o/p-->  [2, 3]               "
   ]
  },
  {
   "cell_type": "code",
   "execution_count": null,
   "id": "6312d282-1d4b-4cda-a84b-2bf261dd2db3",
   "metadata": {},
   "outputs": [],
   "source": [
    "Q6. What is a complex number in mathematics, and how is it represented in Python?\n",
    "Ans. In mathematics, a complex number is a number of the form a + bi, where a and b are real numbers,\n",
    "     and i is the imaginary unit, defined as the square root of -1. The real part of the complex number is represented by a, \n",
    "     and the imaginary part is represented by bi. It's important to note that i is not a real number,\n",
    "     but rather a mathematical concept that allows us to work with numbers involving the square root of -1.\n",
    "    \n",
    "     In Python, complex numbers are represented using the complex data type.The complex type is built into Python, \n",
    "     and you can create a complex number by using the syntax a + bj or a + bj, \n",
    "     where a is the real part, b is the imaginary part, and j or J represents the imaginary unit."
   ]
  },
  {
   "cell_type": "code",
   "execution_count": null,
   "id": "59c13020-c53c-4351-9a46-8ed1dbc4285b",
   "metadata": {},
   "outputs": [],
   "source": [
    "Q7. What is the correct way to declare a variable named age and assign the value 25 to it?\n",
    "Ans. The correct way to declare a variable named age and assign the value 25 to it in Python is as follows:\n",
    "     age=25."
   ]
  },
  {
   "cell_type": "code",
   "execution_count": null,
   "id": "c924eb43-8a0a-4bb3-94e4-6ce4baffd5e4",
   "metadata": {},
   "outputs": [],
   "source": [
    "Q8. Declare a variable named price and assign the value 9.99 to it. What data type does this variable\n",
    "belong to?\n",
    " Ans. To declare a variable named price and assign the value 9.99 to it in Python, you can do the following,\n",
    "      price=9.99\n",
    "      print(type(price));  "
   ]
  },
  {
   "cell_type": "code",
   "execution_count": null,
   "id": "e8777175-e6d3-4fb3-912f-b56f3ac7a1ed",
   "metadata": {},
   "outputs": [],
   "source": [
    "Q9. Create a variable named name and assign your full name to it as a string. How would you print the\n",
    "value of this variable?\n",
    "Ans. To create a variable named name and assign my full name to it as a string,\n",
    "      name = \"Pomesh_Verma\"\n",
    "      To print the value of the name variable, use print() function:\n",
    "            name = \"Pomesh_Verma\"\n",
    "            print(name);"
   ]
  },
  {
   "cell_type": "code",
   "execution_count": null,
   "id": "a464880f-0f85-41cf-bec4-c1dccda5dbcd",
   "metadata": {},
   "outputs": [],
   "source": [
    "Q10. Given the string \"Hello, World!\", extract the substring \"World\".\n",
    "Ans. s = \"Hello, World!\"\n",
    "     substr = s[7:12]\n",
    "     print(substr);"
   ]
  },
  {
   "cell_type": "code",
   "execution_count": null,
   "id": "f85aacbc-d1cf-4da3-bfa3-de7dc9840d24",
   "metadata": {},
   "outputs": [],
   "source": [
    "Q11. Create a variable named \"is_student\" and assign it a boolean value indicating whether you are\n",
    "currently a student or not.\n",
    "Ans. p= \"is_student\"\n",
    "   \n",
    "     p=True\n",
    "     \n",
    "     p=False"
   ]
  }
 ],
 "metadata": {
  "kernelspec": {
   "display_name": "Python 3 (ipykernel)",
   "language": "python",
   "name": "python3"
  },
  "language_info": {
   "codemirror_mode": {
    "name": "ipython",
    "version": 3
   },
   "file_extension": ".py",
   "mimetype": "text/x-python",
   "name": "python",
   "nbconvert_exporter": "python",
   "pygments_lexer": "ipython3",
   "version": "3.10.8"
  }
 },
 "nbformat": 4,
 "nbformat_minor": 5
}
