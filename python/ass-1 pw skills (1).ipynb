{
 "cells": [
  {
   "cell_type": "raw",
   "id": "e007f6e1-2957-4a51-a804-03e6c3efa81c",
   "metadata": {},
   "source": [
    "Q1. Create one variable containing following type of data:\n",
    "(i) string\n",
    "(ii) list\n",
    "(iii) float\n",
    "(iv) tuple"
   ]
  },
  {
   "cell_type": "markdown",
   "id": "888204b3-dcb3-400b-98dd-3c6a34849e76",
   "metadata": {},
   "source": [
    "ans-(i)"
   ]
  },
  {
   "cell_type": "code",
   "execution_count": 4,
   "id": "6c148ac2-8330-48d1-99ab-9ebf857d0fa7",
   "metadata": {},
   "outputs": [
    {
     "name": "stdout",
     "output_type": "stream",
     "text": [
      "I am a entry level Data Science Student\n"
     ]
    }
   ],
   "source": [
    "\n",
    "Mystring=\"I am a entry level Data Science Student\"\n",
    "print(Mystring)"
   ]
  },
  {
   "cell_type": "markdown",
   "id": "01eeec60-e53f-4100-afc4-04253be6d512",
   "metadata": {},
   "source": [
    "ans-(ii)"
   ]
  },
  {
   "cell_type": "code",
   "execution_count": 5,
   "id": "4f3a6832-fba5-42e2-86f7-ef10d822c653",
   "metadata": {},
   "outputs": [
    {
     "name": "stdout",
     "output_type": "stream",
     "text": [
      "['one', 11, 'Two', 23.9, 'Three']\n"
     ]
    }
   ],
   "source": [
    "myList = [\"one\", 11, \"Two\", 23.9, \"Three\"];\n",
    "print(myList);"
   ]
  },
  {
   "cell_type": "markdown",
   "id": "d5c5a84c-2601-4b7f-a8e1-42c7823c50c2",
   "metadata": {},
   "source": [
    "ans=(iii)"
   ]
  },
  {
   "cell_type": "code",
   "execution_count": 9,
   "id": "8def88ef-5805-4238-afd3-e8a5d72aa796",
   "metadata": {},
   "outputs": [
    {
     "name": "stdout",
     "output_type": "stream",
     "text": [
      "17.8954\n"
     ]
    }
   ],
   "source": [
    "this_is_a_float = 17.8954\n",
    "print(this_is_a_float)"
   ]
  },
  {
   "cell_type": "markdown",
   "id": "b0d2e422-9423-4edb-881e-b35df0218672",
   "metadata": {},
   "source": [
    "ans=(iv)"
   ]
  },
  {
   "cell_type": "code",
   "execution_count": 13,
   "id": "264868a6-0000-489d-9f58-46cd6de9b4df",
   "metadata": {},
   "outputs": [
    {
     "ename": "IndentationError",
     "evalue": "unexpected indent (1875128327.py, line 2)",
     "output_type": "error",
     "traceback": [
      "\u001b[0;36m  Cell \u001b[0;32mIn[13], line 2\u001b[0;36m\u001b[0m\n\u001b[0;31m    print(t1)\u001b[0m\n\u001b[0m    ^\u001b[0m\n\u001b[0;31mIndentationError\u001b[0m\u001b[0;31m:\u001b[0m unexpected indent\n"
     ]
    }
   ],
   "source": [
    "t1 = (3.14)\n",
    " print(t1)"
   ]
  },
  {
   "cell_type": "markdown",
   "id": "7ea8e5f3-3510-4be3-b3a8-a50a282f72fb",
   "metadata": {},
   "source": [
    "Q2. Given are some following variables containing data:\n",
    "(i) var1 = ‘ ‘\n",
    "(ii) var2 = ‘[ DS , ML , Python]’\n",
    "(iii) var3 = [ ‘DS’ , ’ML’ , ‘Python’ ]\n",
    "(iv) var4 = 1.\n",
    "What will be the data type of the above given variable.\n",
    "\n"
   ]
  },
  {
   "cell_type": "markdown",
   "id": "84e66916-ac68-4015-bdae-62f6764bc29b",
   "metadata": {},
   "source": [
    "ans-(i)"
   ]
  },
  {
   "cell_type": "code",
   "execution_count": null,
   "id": "ee6b18ab-1e12-425b-b2fb-240de0b36791",
   "metadata": {},
   "outputs": [],
   "source": [
    "str"
   ]
  },
  {
   "cell_type": "markdown",
   "id": "f9086ac7-4dd3-4205-91c0-82da394442c8",
   "metadata": {},
   "source": [
    "ans-(ii)"
   ]
  },
  {
   "cell_type": "code",
   "execution_count": null,
   "id": "aff8c5e0-5445-42a0-92b0-5dd51e5b2a9c",
   "metadata": {},
   "outputs": [],
   "source": [
    "list"
   ]
  },
  {
   "cell_type": "markdown",
   "id": "b30d954c-6480-43f6-bbf2-5d9dc31da829",
   "metadata": {},
   "source": [
    "ans-(iii)"
   ]
  },
  {
   "cell_type": "code",
   "execution_count": null,
   "id": "b1495455-3a99-4999-93b6-ba86ad3bb410",
   "metadata": {},
   "outputs": [],
   "source": [
    "list"
   ]
  },
  {
   "cell_type": "markdown",
   "id": "a8373372-3f6d-415a-8874-79b88d5f34e5",
   "metadata": {},
   "source": [
    "ans - (iv)"
   ]
  },
  {
   "cell_type": "code",
   "execution_count": null,
   "id": "7ceff52b-713a-4bb2-af56-e050d83ac907",
   "metadata": {},
   "outputs": [],
   "source": [
    "int"
   ]
  },
  {
   "cell_type": "markdown",
   "id": "3656a8fa-0a91-4c01-b14c-6305bd32180a",
   "metadata": {},
   "source": [
    "Q3. Explain the use of the following operators using an example:\n",
    "(i) /\n",
    "(ii) %\n",
    "(iii) //\n",
    "(iv) **"
   ]
  },
  {
   "cell_type": "markdown",
   "id": "06e7faf9-d5b1-4171-bae6-924b8f0b1588",
   "metadata": {},
   "source": [
    "ans-(i)\n",
    "      / is Division Method\n",
    "ans-(ii)\n",
    "      % is for modulus calculus\n",
    "ans-(iii)\n",
    "      // is for floor division \n",
    "ans-(iv)\n",
    "      ** is for exponentiation"
   ]
  },
  {
   "cell_type": "markdown",
   "id": "b32222d3-5508-43bc-8093-b3eca5a22195",
   "metadata": {},
   "source": [
    "Q4. Create a list of length 10 of your choice containing multiple types of data. Using for loop print the\n",
    "element and its data type."
   ]
  },
  {
   "cell_type": "code",
   "execution_count": 18,
   "id": "c938a7f7-dd5b-4149-a277-5867c0431ca9",
   "metadata": {},
   "outputs": [],
   "source": [
    "#ans --->"
   ]
  },
  {
   "cell_type": "code",
   "execution_count": 22,
   "id": "c4a58af3-3d52-4b22-bc7d-e16727c3a947",
   "metadata": {},
   "outputs": [
    {
     "name": "stdout",
     "output_type": "stream",
     "text": [
      "8: <class 'int'>\n",
      "Data_science: <class 'str'>\n",
      "9.19: <class 'float'>\n",
      "True: <class 'bool'>\n",
      "[1, 2, 3]: <class 'list'>\n",
      "{'name': 'Pomesh', 'age': 25}: <class 'dict'>\n",
      "Entry level: <class 'str'>\n",
      "(1, 2): <class 'tuple'>\n"
     ]
    }
   ],
   "source": [
    "my_list = [8, \"Data_science\", 9.19, True, [1, 2, 3], {\"name\": \"Pomesh\", \"age\": 25}, 'Entry level' , (1, 2)]\n",
    "\n",
    "# Using for loop to print each element and its data type\n",
    "for item in my_list:\n",
    "    print(f\"{item}: {type(item)}\")\n"
   ]
  },
  {
   "cell_type": "code",
   "execution_count": null,
   "id": "6cbc6611-2a38-480b-9169-876e6ce28b45",
   "metadata": {},
   "outputs": [],
   "source": [
    "Q7. What do you understand about mutable and immutable data types? Give examples for both showing\n",
    "this property.\n",
    "Ans - Mutable --It Allow their values to be modified after they are created.\n",
    "                When you modify a mutable object, you are changing the same object in memory\n",
    "                rather than creating a new one.\n",
    "        e.g. --a. list\n",
    "               b. dict\n",
    "               c. set\n",
    "      Immutable -- Immutable data types are those whose values cannot be changed after they are created. \n",
    "                   Any attempt to modify the data results in the creation of a new object with the updated value.\n",
    "        e.g. -- a. int\n",
    "                b. float\n",
    "                c. str\n",
    "                d. tuple1\n",
    "        "
   ]
  },
  {
   "cell_type": "code",
   "execution_count": null,
   "id": "fe9ce81b-7dc9-40d4-98d9-f3420adcf1ef",
   "metadata": {},
   "outputs": [],
   "source": [
    "Q.6. Create a list containing 25 int type data. Using for loop and if-else condition print if the element is\n",
    "divisible by 3 or not.\n",
    "\n",
    "Ans.6.\n",
    "\n",
    "my_list = [1, 3, 5, 7, 9, 22, 18, 9, 10, 27, 36, 4, 15, 21, 33, 2, 6, 42, 17, 25, 11, 39, 20, 14, 3]\n",
    "\n",
    "for num in my_list:\n",
    "    if num % 3 == 0:\n",
    "        print(f\"{num} is divisible by 3.\")\n",
    "    else:\n",
    "        print(f\"{num} is not divisible by 3.\")"
   ]
  }
 ],
 "metadata": {
  "kernelspec": {
   "display_name": "Python 3 (ipykernel)",
   "language": "python",
   "name": "python3"
  },
  "language_info": {
   "codemirror_mode": {
    "name": "ipython",
    "version": 3
   },
   "file_extension": ".py",
   "mimetype": "text/x-python",
   "name": "python",
   "nbconvert_exporter": "python",
   "pygments_lexer": "ipython3",
   "version": "3.10.8"
  }
 },
 "nbformat": 4,
 "nbformat_minor": 5
}
